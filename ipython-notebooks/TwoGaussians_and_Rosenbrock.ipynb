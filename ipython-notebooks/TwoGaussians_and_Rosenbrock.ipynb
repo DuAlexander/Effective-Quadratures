{
 "cells": [
  {
   "cell_type": "code",
   "execution_count": 13,
   "metadata": {
    "collapsed": true
   },
   "outputs": [],
   "source": [
    "%matplotlib inline\n",
    "from effective_quadratures.PolyParams import PolynomialParam\n",
    "from effective_quadratures.PolyParentFile import PolyParent\n",
    "import effective_quadratures.ComputeStats as stats\n",
    "import numpy as np\n",
    "import matplotlib.pyplot as plt"
   ]
  },
  {
   "cell_type": "markdown",
   "metadata": {},
   "source": [
    "Assume we have a computational model -- in this case Rosenbrock's function -- that has two uncertainties. Thus\n",
    "$$f(x_1, x_2) = (1 - x_1)^2 + 100(x_1 - x_2^2)^2$$\n",
    "where\n",
    "$x_1$ and $x_2$ are Gaussians with $\\mu=1$ and $\\sigma=2$. Our objective is to compute the mean and variance in the output $f$: $\\mu(f)$ and $\\sigma(f)$. Ok cool -- let's begin!"
   ]
  },
  {
   "cell_type": "markdown",
   "metadata": {},
   "source": [
    "We start by defining our computational model, and call it fun(x)"
   ]
  },
  {
   "cell_type": "code",
   "execution_count": 14,
   "metadata": {
    "collapsed": true
   },
   "outputs": [],
   "source": [
    "def rosenbrock_fun(x):\n",
    "    return (1 - x[0])**2 + 100*(x[1] - x[0]**2)**2"
   ]
  },
  {
   "cell_type": "markdown",
   "metadata": {},
   "source": [
    "Next, we set the number of evaluation points in each direction. Lets opt for 4 points in the first direction $(x_1)$ and 7 points in the second direction $(x_2)$. Using a tensor grid, this results in 28 points."
   ]
  },
  {
   "cell_type": "code",
   "execution_count": 22,
   "metadata": {
    "collapsed": false
   },
   "outputs": [],
   "source": [
    "no_pts_x1 = 5\n",
    "no_pts_x2 = 5\n",
    "mu = 1\n",
    "sigma = 2\n",
    "variance = sigma**2\n",
    "method = \"tensor grid\"\n",
    "x1 = PolynomialParam(\"FunGaussian\", [], [], mu, variance, [], no_pts_x1)\n",
    "x2 = PolynomialParam(\"FunGaussian\", [], [], mu, variance, [], no_pts_x2)\n"
   ]
  },
  {
   "cell_type": "markdown",
   "metadata": {},
   "source": [
    "Now we plot the corresponding tensor grid"
   ]
  },
  {
   "cell_type": "code",
   "execution_count": 23,
   "metadata": {
    "collapsed": false
   },
   "outputs": [
    {
     "data": {
      "image/png": "[encoded data removed]",
      "text/plain": [
       "<matplotlib.figure.Figure at 0x10ca9c790>"
      ]
     },
     "metadata": {},
     "output_type": "display_data"
    }
   ],
   "source": [
    "x1x2 = []\n",
    "x1x2.append(x1)\n",
    "x1x2.append(x2)\n",
    "uqProblem = PolyParent(x1x2, method)\n",
    "pts, wts = PolyParent.getPointsAndWeights(uqProblem)\n",
    "\n",
    "plt.scatter(pts[:,0], pts[:,1], s=70, c='r', marker='o');\n",
    "plt.xlabel('x1');\n",
    "plt.ylabel('x2');\n",
    "plt.title('Tensor grid');"
   ]
  },
  {
   "cell_type": "markdown",
   "metadata": {},
   "source": [
    "Now, we evaluate Rosenbrocks function at these points and compute the pseudospectral coefficients:"
   ]
  },
  {
   "cell_type": "code",
   "execution_count": 24,
   "metadata": {
    "collapsed": true
   },
   "outputs": [],
   "source": [
    "x, i, f = PolyParent.getCoefficients(uqProblem, rosenbrock_fun)\n",
    "mean, variance = stats.compute_mean_variance(x, i)"
   ]
  },
  {
   "cell_type": "markdown",
   "metadata": {},
   "source": [
    "We wrap up with some print statements:"
   ]
  },
  {
   "cell_type": "code",
   "execution_count": 25,
   "metadata": {
    "collapsed": false
   },
   "outputs": [
    {
     "name": "stdout",
     "output_type": "stream",
     "text": [
      "MEAN & VARIANCE:\n",
      "6804.0\t476659232.0\n"
     ]
    }
   ],
   "source": [
    "print 'MEAN & VARIANCE:'\n",
    "print str(mean)+'\\t'+str(variance)"
   ]
  },
  {
   "cell_type": "markdown",
   "metadata": {},
   "source": [
    "Now we compare this result with brute-force Monte Carlo."
   ]
  },
  {
   "cell_type": "code",
   "execution_count": 8,
   "metadata": {
    "collapsed": false
   },
   "outputs": [
    {
     "name": "stdout",
     "output_type": "stream",
     "text": [
      "MONTE CARLO MEAN & VARIANCE:\n",
      "6796.56064399\t473110562.784\n"
     ]
    }
   ],
   "source": [
    "large_number = 5000000\n",
    "s = sigma * np.random.randn(large_number,2) + mu\n",
    "f = np.zeros((large_number,1))\n",
    "for i in range(0, large_number):\n",
    "    f[i,0] = rosenbrock_fun([s[i,0], s[i,1]])\n",
    "print 'MONTE CARLO MEAN & VARIANCE:'\n",
    "print str(np.mean(f))+'\\t'+str(np.var(f))"
   ]
  },
  {
   "cell_type": "markdown",
   "metadata": {},
   "source": [
    "They seem pretty close! yay!"
   ]
  },
  {
   "cell_type": "code",
   "execution_count": null,
   "metadata": {
    "collapsed": true
   },
   "outputs": [],
   "source": []
  }
 ],
 "metadata": {
  "kernelspec": {
   "display_name": "Python 2",
   "language": "python",
   "name": "python2"
  },
  "language_info": {
   "codemirror_mode": {
    "name": "ipython",
    "version": 2
   },
   "file_extension": ".py",
   "mimetype": "text/x-python",
   "name": "python",
   "nbconvert_exporter": "python",
   "pygments_lexer": "ipython2",
   "version": "2.7.10"
  }
 },
 "nbformat": 4,
 "nbformat_minor": 0
}
