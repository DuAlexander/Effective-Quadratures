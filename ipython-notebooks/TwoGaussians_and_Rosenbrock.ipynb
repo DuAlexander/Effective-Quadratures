{
 "cells": [
  {
   "cell_type": "markdown",
   "metadata": {},
   "source": [
    "<h1> Two Gaussians and Rosenbrocks function"
   ]
  },
  {
   "cell_type": "code",
   "execution_count": 1,
   "metadata": {
    "collapsed": true
   },
   "outputs": [],
   "source": [
    "%matplotlib inline\n",
    "from effective_quadratures.PolyParams import PolynomialParam\n",
    "from effective_quadratures.PolyParentFile import PolyParent\n",
    "from effective_quadratures.IndexSets import IndexSet\n",
    "import effective_quadratures.ComputeStats as stats\n",
    "import numpy as np\n",
    "import matplotlib.pyplot as plt"
   ]
  },
  {
   "cell_type": "markdown",
   "metadata": {},
   "source": [
    "Assume we have a computational model -- in this case Rosenbrock's function -- that has two uncertainties. Thus\n",
    "$$f(x_1, x_2) = (1 - x_1)^2 + 100(x_1 - x_2^2)^2$$\n",
    "where\n",
    "$x_1$ and $x_2$ are Gaussians with $\\mu=1$ and $\\sigma=2$. Our objective is to compute the mean and variance in the output $f$: $\\mu(f)$ and $\\sigma(f)$. Ok cool -- let's begin!"
   ]
  },
  {
   "cell_type": "markdown",
   "metadata": {},
   "source": [
    "We start by defining our computational model, and call it fun(x)"
   ]
  },
  {
   "cell_type": "code",
   "execution_count": 2,
   "metadata": {
    "collapsed": true
   },
   "outputs": [],
   "source": [
    "def rosenbrock_fun(x):\n",
    "    return (1 - x[0])**2 + 100*(x[1] - x[0]**2)**2"
   ]
  },
  {
   "cell_type": "markdown",
   "metadata": {},
   "source": [
    "Next, we set the number of evaluation points in each direction. Lets opt for 4 points in the first direction $(x_1)$ and 7 points in the second direction $(x_2)$. Using a tensor grid, this results in 28 points."
   ]
  },
  {
   "cell_type": "code",
   "execution_count": 3,
   "metadata": {
    "collapsed": false
   },
   "outputs": [],
   "source": [
    "no_pts_x1 = 5\n",
    "no_pts_x2 = 5\n",
    "mu = 1\n",
    "sigma = 2\n",
    "variance = sigma**2\n",
    "method = \"tensor grid\"\n",
    "x1 = PolynomialParam(\"Gaussian\", [], [], mu, variance, [], no_pts_x1)\n",
    "x2 = PolynomialParam(\"Gaussian\", [], [], mu, variance, [], no_pts_x2)\n"
   ]
  },
  {
   "cell_type": "markdown",
   "metadata": {},
   "source": [
    "Now we plot the corresponding tensor grid"
   ]
  },
  {
   "cell_type": "code",
   "execution_count": 4,
   "metadata": {
    "collapsed": false
   },
   "outputs": [
    {
     "data": {
      "image/png": "[encoded data removed]",
      "text/plain": [
       "<matplotlib.figure.Figure at 0x111c16690>"
      ]
     },
     "metadata": {},
     "output_type": "display_data"
    }
   ],
   "source": [
    "x1x2 = []\n",
    "x1x2.append(x1)\n",
    "x1x2.append(x2)\n",
    "uqProblem = PolyParent(x1x2, method)\n",
    "pts, wts = PolyParent.getPointsAndWeights(uqProblem)\n",
    "\n",
    "plt.scatter(pts[:,0], pts[:,1], s=70, c='r', marker='o');\n",
    "plt.xlabel('x1');\n",
    "plt.ylabel('x2');\n",
    "plt.title('Tensor grid');"
   ]
  },
  {
   "cell_type": "markdown",
   "metadata": {},
   "source": [
    "Now, we evaluate Rosenbrocks function at these points and compute the pseudospectral coefficients:"
   ]
  },
  {
   "cell_type": "code",
   "execution_count": 5,
   "metadata": {
    "collapsed": false
   },
   "outputs": [],
   "source": [
    "x, i, f = PolyParent.getCoefficients(uqProblem, rosenbrock_fun)\n",
    "mean, variance = stats.compute_mean_variance(x, i)"
   ]
  },
  {
   "cell_type": "markdown",
   "metadata": {},
   "source": [
    "We wrap up with some print statements:"
   ]
  },
  {
   "cell_type": "code",
   "execution_count": 6,
   "metadata": {
    "collapsed": false
   },
   "outputs": [
    {
     "name": "stdout",
     "output_type": "stream",
     "text": [
      "MEAN & VARIANCE:\n",
      "6804.0\t476659232.0\n"
     ]
    }
   ],
   "source": [
    "print 'MEAN & VARIANCE:'\n",
    "print str(mean)+'\\t'+str(variance)"
   ]
  },
  {
   "cell_type": "markdown",
   "metadata": {},
   "source": [
    "Now we compare this result with brute-force Monte Carlo."
   ]
  },
  {
   "cell_type": "code",
   "execution_count": 7,
   "metadata": {
    "collapsed": false
   },
   "outputs": [],
   "source": [
    "large_number = 100000\n",
    "s = sigma * np.random.randn(large_number,2) + mu\n",
    "f = np.zeros((large_number,1))\n",
    "for i in range(0, large_number):\n",
    "    f[i,0] = rosenbrock_fun([s[i,0], s[i,1]])\n",
    "    "
   ]
  },
  {
   "cell_type": "code",
   "execution_count": 8,
   "metadata": {
    "collapsed": false
   },
   "outputs": [
    {
     "name": "stdout",
     "output_type": "stream",
     "text": [
      "MONTE CARLO MEAN & VARIANCE:\n",
      "6753.68525333\t451873880.129\n"
     ]
    }
   ],
   "source": [
    "print 'MONTE CARLO MEAN & VARIANCE:'\n",
    "print str(np.mean(f))+'\\t'+str(np.var(f))"
   ]
  },
  {
   "cell_type": "markdown",
   "metadata": {},
   "source": [
    "They seem pretty close! yay! Now we can do the same using a sparse grid using the sparse pseudospectral approximation method. The steps above remain the same with the exception of the choice of method:"
   ]
  },
  {
   "cell_type": "code",
   "execution_count": 9,
   "metadata": {
    "collapsed": false
   },
   "outputs": [],
   "source": [
    "method = \"spam\"\n",
    "growth_rule = \"linear\"\n",
    "level = 4\n",
    "dimension = 2\n",
    "basis = IndexSet(\"sparse grid\", [], level, growth_rule, dimension)\n",
    "uqProblem = PolyParent(x1x2, method, basis)"
   ]
  },
  {
   "cell_type": "markdown",
   "metadata": {},
   "source": [
    "Now lets plot the points associated with this sparse grid"
   ]
  },
  {
   "cell_type": "code",
   "execution_count": 10,
   "metadata": {
    "collapsed": false
   },
   "outputs": [
    {
     "data": {
      "image/png": "[encoded data removed]",
      "text/plain": [
       "<matplotlib.figure.Figure at 0x113196490>"
      ]
     },
     "metadata": {},
     "output_type": "display_data"
    }
   ],
   "source": [
    "pts, wts = PolyParent.getPointsAndWeights(uqProblem)\n",
    "plt.scatter(pts[:,0], pts[:,1], s=70, c='b', marker='o');\n",
    "plt.xlabel('x1');\n",
    "plt.ylabel('x2');\n",
    "plt.title('Sparse grid');"
   ]
  },
  {
   "cell_type": "markdown",
   "metadata": {
    "collapsed": true
   },
   "source": [
    "And finally we compute the mean and variance use the sparse pseudospectral approximation method. Note the code is identical to the tensor grid case, with the exception of our new definition for \"uqProblem\":"
   ]
  },
  {
   "cell_type": "code",
   "execution_count": 11,
   "metadata": {
    "collapsed": false
   },
   "outputs": [
    {
     "name": "stdout",
     "output_type": "stream",
     "text": [
      "MEAN & VARIANCE:\n",
      "6804.0\t476659232.0\n"
     ]
    }
   ],
   "source": [
    "x, i, f = PolyParent.getCoefficients(uqProblem, rosenbrock_fun)\n",
    "mean, variance = stats.compute_mean_variance(x, i)\n",
    "print 'MEAN & VARIANCE:'\n",
    "print str(mean)+'\\t'+str(variance)"
   ]
  },
  {
   "cell_type": "code",
   "execution_count": null,
   "metadata": {
    "collapsed": true
   },
   "outputs": [],
   "source": []
  }
 ],
 "metadata": {
  "kernelspec": {
   "display_name": "Python 2",
   "language": "python",
   "name": "python2"
  },
  "language_info": {
   "codemirror_mode": {
    "name": "ipython",
    "version": 2
   },
   "file_extension": ".py",
   "mimetype": "text/x-python",
   "name": "python",
   "nbconvert_exporter": "python",
   "pygments_lexer": "ipython2",
   "version": "2.7.10"
  }
 },
 "nbformat": 4,
 "nbformat_minor": 0
}
