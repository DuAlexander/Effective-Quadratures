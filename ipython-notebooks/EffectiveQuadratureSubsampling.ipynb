{
 "cells": [
  {
   "cell_type": "code",
   "execution_count": 17,
   "metadata": {
    "collapsed": false
   },
   "outputs": [],
   "source": [
    "%matplotlib inline\n",
    "from effective_quadratures.PolyParams import PolynomialParam\n",
    "from effective_quadratures.PolyParentFile import PolyParent\n",
    "from effective_quadratures.IndexSets import IndexSet\n",
    "from effective_quadratures.Utils import column, evalfunction\n",
    "import effective_quadratures.MatrixRoutines as mat\n",
    "import effective_quadratures.ComputeStats as stats\n",
    "from effective_quadratures.EffectiveQuadSubsampling import EffectiveSubsampling\n",
    "import numpy as np\n",
    "import matplotlib.pyplot as plt"
   ]
  },
  {
   "cell_type": "markdown",
   "metadata": {},
   "source": [
    "<h1> The Namesake: Effective Quadrature Subsampling"
   ]
  },
  {
   "cell_type": "markdown",
   "metadata": {},
   "source": [
    "In this notebook we demonstrate what effective quadrature subsampling is and how it may be used to create a polynomial approximation for a computation model. We begin by defining a simple two-dimensional function\n",
    "$$f(x_1, x_2) = exp(x_1 + x_2)$$\n",
    "where $x_1$ and $x_2$ are uniformly distributed over the cube $x_1, x_2 \n",
    "\\in [-1,1]$. This will be our 'expensive' computational model. "
   ]
  },
  {
   "cell_type": "markdown",
   "metadata": {},
   "source": [
    "Lets first understand what exactly effective quadrature subsampling is and how it computes the pseudospectral coefficients. Have a look at the figure below. In (a) we have a matrix of multivariate orthonormal polynomials evaluated at a tensor grid of quadrature points (rows) and the underlying polynomial basis forms the columns. This basis can be formed from either a total order or hyperbolic cross basis. The \"effectively subsampled quadrature points\" are obtained by computing the QR column pivoting factorization of A transpose and only taking the first n columns of A transpose as shown in (b). We then compute the coefficients by solving this as a least squares problem. When approximating computational models with noise, one may need to eliminate a few extra columns to get a good least squares approximant; as in (c) and (d). "
   ]
  },
  {
   "cell_type": "markdown",
   "metadata": {},
   "source": [
    "<img src='Matrices.png'>"
   ]
  },
  {
   "cell_type": "markdown",
   "metadata": {},
   "source": [
    "To clarify the above, let us run though an example problem with the exponential function:"
   ]
  },
  {
   "cell_type": "code",
   "execution_count": 3,
   "metadata": {
    "collapsed": false
   },
   "outputs": [],
   "source": [
    "def exponential_function(x):\n",
    "    return np.exp(x[0] + x[1])"
   ]
  },
  {
   "cell_type": "markdown",
   "metadata": {},
   "source": [
    "Declare the two inputs and their ranges"
   ]
  },
  {
   "cell_type": "code",
   "execution_count": 4,
   "metadata": {
    "collapsed": true
   },
   "outputs": [],
   "source": [
    "no_pts_x1 = 5\n",
    "no_pts_x2 = 5\n",
    "min_range = -1.0\n",
    "max_range = 1.0\n",
    "x1 = PolynomialParam(\"Uniform\", min_range, max_range, [], [], [], no_pts_x1)\n",
    "x2 = PolynomialParam(\"Uniform\", min_range, max_range, [], [], [], no_pts_x2)\n",
    "x1x2 = []\n",
    "x1x2.append(x1)\n",
    "x1x2.append(x2)"
   ]
  },
  {
   "cell_type": "markdown",
   "metadata": {},
   "source": [
    "We will opt for a hyperbolic cross basis, though one can also opt for a total order basis. Bear in mind that we are trying to escape the cost associated with a more conventional tensor grid or sparse grid basis. A hyperbolic cross takes in a *q* parameter. When *q=1* we have a total order basis. Note that the cardinality of the hyperbolic cross sets the maximum number of function evaluations required. "
   ]
  },
  {
   "cell_type": "code",
   "execution_count": 20,
   "metadata": {
    "collapsed": false
   },
   "outputs": [
    {
     "name": "stdout",
     "output_type": "stream",
     "text": [
      "10\n"
     ]
    }
   ],
   "source": [
    "q = 0.5\n",
    "hyperbolic_cross = IndexSet(\"hyperbolic cross\", [no_pts_x1, no_pts_x2], q)\n",
    "maximum_number_of_evals = IndexSet.getCardinality(hyperbolic_cross)\n",
    "print maximum_number_of_evals"
   ]
  },
  {
   "cell_type": "markdown",
   "metadata": {},
   "source": [
    "Lets plot this index set which has 10 terms:"
   ]
  },
  {
   "cell_type": "code",
   "execution_count": 21,
   "metadata": {
    "collapsed": false
   },
   "outputs": [
    {
     "data": {
      "image/png": "[encoded data removed]",
      "text/plain": [
       "<matplotlib.figure.Figure at 0x11144b450>"
      ]
     },
     "metadata": {},
     "output_type": "display_data"
    }
   ],
   "source": [
    "indexset = IndexSet.getIndexSet(hyperbolic_cross)\n",
    "plt.scatter(column(indexset,0), column(indexset,1), marker='o', s=80, color='red');\n",
    "plt.xlabel('x1');\n",
    "plt.ylabel('x2');\n",
    "plt.title('Hyperbolic cross with q=0.5');"
   ]
  },
  {
   "cell_type": "markdown",
   "metadata": {},
   "source": [
    "The class Effective_Subsampling has holds all the function calls required for effective quadrature subsampling. We begin by declaring an EffectiveSubsampling object that takes as inputs the uncertain parameters, the index set and a derivative flag. In this notebook as derivatives are not considered the derivative flag is set to 0."
   ]
  },
  {
   "cell_type": "code",
   "execution_count": 22,
   "metadata": {
    "collapsed": false
   },
   "outputs": [],
   "source": [
    "effectiveQuads = EffectiveSubsampling(x1x2, hyperbolic_cross, 0)\n",
    "A_tall, esquad_pts = EffectiveSubsampling.getAsubsampled(effectiveQuads, maximum_number_of_evals)\n",
    "b_tall = evalfunction(esquad_pts, exponential_function)"
   ]
  },
  {
   "cell_type": "markdown",
   "metadata": {
    "collapsed": true
   },
   "source": [
    "Let's plot where these subsamples lie on our existing [no_pts_x1, no_pts_x2] tensor grid. "
   ]
  },
  {
   "cell_type": "code",
   "execution_count": 36,
   "metadata": {
    "collapsed": false
   },
   "outputs": [
    {
     "data": {
      "image/png": "[encoded data removed]",
      "text/plain": [
       "<matplotlib.figure.Figure at 0x111410050>"
      ]
     },
     "metadata": {},
     "output_type": "display_data"
    }
   ],
   "source": [
    "uqProblem = PolyParent(x1x2, \"tensor grid\")\n",
    "tensor_pts, wts = PolyParent.getPointsAndWeights(uqProblem)\n",
    "plt.scatter(tensor_pts[:,0], tensor_pts[:,1], s=70, c='r', marker='o');\n",
    "plt.scatter(esquad_pts[:,0], esquad_pts[:,1], s=130, facecolor='none', edgecolor='b', marker='o');\n",
    "plt.xlabel('x1');\n",
    "plt.ylabel('x2');\n",
    "plt.title('Effectively subsampled points');"
   ]
  },
  {
   "cell_type": "markdown",
   "metadata": {},
   "source": [
    "Now before we solve the least squares problem, we have to row normalize our matrices -- to reduce the condition number. A simple utility in \"mat\" addresses this: "
   ]
  },
  {
   "cell_type": "code",
   "execution_count": 19,
   "metadata": {
    "collapsed": false
   },
   "outputs": [],
   "source": [
    "An, normalizations = mat.rowNormalize(A_tall)\n",
    "bn = np.dot(normalizations, b_tall)\n",
    "xn = mat.solveLeastSquares(An, bn)"
   ]
  },
  {
   "cell_type": "markdown",
   "metadata": {},
   "source": [
    "So how does this coefficient approximation fare with a randomized sampling approach? "
   ]
  }
 ],
 "metadata": {
  "kernelspec": {
   "display_name": "Python 2",
   "language": "python",
   "name": "python2"
  },
  "language_info": {
   "codemirror_mode": {
    "name": "ipython",
    "version": 2
   },
   "file_extension": ".py",
   "mimetype": "text/x-python",
   "name": "python",
   "nbconvert_exporter": "python",
   "pygments_lexer": "ipython2",
   "version": "2.7.10"
  }
 },
 "nbformat": 4,
 "nbformat_minor": 0
}
