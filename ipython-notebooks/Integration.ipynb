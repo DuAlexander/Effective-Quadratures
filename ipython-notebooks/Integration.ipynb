{
 "cells": [
  {
   "cell_type": "code",
   "execution_count": 1,
   "metadata": {
    "collapsed": true
   },
   "outputs": [],
   "source": [
    "%matplotlib inline\n",
    "from effective_quadratures.PolyParams import PolynomialParam\n",
    "from effective_quadratures.PolyParentFile import PolyParent\n",
    "from effective_quadratures.IndexSets import IndexSet\n",
    "import effective_quadratures.Integrals as integrals\n",
    "import effective_quadratures.Utils as utils\n",
    "import effective_quadratures.MatrixRoutines as mat\n",
    "from effective_quadratures.EffectiveQuadSubsampling import EffectiveSubsampling\n",
    "import matplotlib.pyplot as plt\n",
    "import numpy as np"
   ]
  },
  {
   "cell_type": "markdown",
   "metadata": {},
   "source": [
    "<h1> Numerical Integration\n"
   ]
  },
  {
   "cell_type": "markdown",
   "metadata": {},
   "source": [
    "Numerical integration forms a pivotal component of modern computational engineering. In this notebook, we will test out a few of the integration routines in Effective-Quadratures. Consider the following integral\n",
    "$$\\int_{-2}^{1}\\int_{-3}^{2}\\int_{-1}^{2}\\int_{-0.5}^{0.5}\\left(cos\\left(x_{1}\\right)+x_{2}^{2}+x_{3}x_{4}\\right)dx_{1}dx_{2}dx_{3}dx_{4}.\n",
    "$$"
   ]
  },
  {
   "cell_type": "markdown",
   "metadata": {},
   "source": [
    "We will approximate the integral using four different techniques:\n",
    "1. Tensor grid\n",
    "2. Sparse grid\n",
    "3. Effective quadrature subsampling (least squares)\n",
    "4. Monte Carlo sampling\n",
    "\n",
    "To begin, lets define the function and its bounds"
   ]
  },
  {
   "cell_type": "code",
   "execution_count": 2,
   "metadata": {
    "collapsed": false
   },
   "outputs": [],
   "source": [
    "def integral(x):\n",
    "    return np.cos(x[0]) + x[1]**2 + x[2]*x[3]"
   ]
  },
  {
   "cell_type": "markdown",
   "metadata": {},
   "source": [
    "<h2> 1. Tensor grid"
   ]
  },
  {
   "cell_type": "code",
   "execution_count": 3,
   "metadata": {
    "collapsed": false
   },
   "outputs": [],
   "source": [
    "no_of_pts = 4\n",
    "dimensions = 4\n",
    "parameter_x1 = PolynomialParam(\"Uniform\", -0.5, 0.5, [], [], [], no_of_pts)\n",
    "parameter_x2 = PolynomialParam(\"Uniform\", -1.0, 2.0, [], [], [], no_of_pts)\n",
    "parameter_x3 = PolynomialParam(\"Uniform\", -3.0, 2.0, [], [], [], no_of_pts)\n",
    "parameter_x4 = PolynomialParam(\"Uniform\", -2.0, 1.0, [], [], [], no_of_pts)\n",
    "allParameters = [parameter_x1, parameter_x2, parameter_x3, parameter_x4]"
   ]
  },
  {
   "cell_type": "markdown",
   "metadata": {},
   "source": [
    "Now lets generate a tensor grid index set and hand that over to the integrals function:"
   ]
  },
  {
   "cell_type": "code",
   "execution_count": 4,
   "metadata": {
    "collapsed": true
   },
   "outputs": [],
   "source": [
    "tensorgridObject = IndexSet(\"tensor grid\", [no_of_pts, no_of_pts, no_of_pts, no_of_pts])\n",
    "tg_pts, tg_wts = integrals.tensorGrid(allParameters, tensorgridObject)"
   ]
  },
  {
   "cell_type": "markdown",
   "metadata": {},
   "source": [
    "Computing the integral yields:"
   ]
  },
  {
   "cell_type": "code",
   "execution_count": 5,
   "metadata": {
    "collapsed": false
   },
   "outputs": [
    {
     "name": "stdout",
     "output_type": "stream",
     "text": [
      "TENSOR GRID APPROXIMATION & POINTS USED\n",
      "[[ 35.34161723]] 625\n"
     ]
    }
   ],
   "source": [
    "tensor_approximation = np.mat(tg_wts) * utils.evalfunction(tg_pts, integral)\n",
    "tensor_grid_cardinality = IndexSet.getCardinality(tensorgridObject)\n",
    "print 'TENSOR GRID APPROXIMATION & POINTS USED'\n",
    "print tensor_approximation, tensor_grid_cardinality"
   ]
  },
  {
   "cell_type": "markdown",
   "metadata": {},
   "source": [
    "<h2> 2. Sparse grid"
   ]
  },
  {
   "cell_type": "markdown",
   "metadata": {},
   "source": [
    "We will use an exponential growth rule with level 3 to approximate the integral:"
   ]
  },
  {
   "cell_type": "code",
   "execution_count": 6,
   "metadata": {
    "collapsed": false
   },
   "outputs": [],
   "source": [
    "sparsegridObject = IndexSet(\"sparse grid\", [], 4, \"exponential\", dimensions)\n",
    "sg_pts, sg_wts = integrals.sparseGrid(allParameters, sparsegridObject)\n",
    "sparse_int = np.mat(sg_wts) * utils.evalfunction(sg_pts, integral)\n",
    "sparse_grid_cardinality = IndexSet.getCardinality(sparsegridObject)"
   ]
  },
  {
   "cell_type": "code",
   "execution_count": 7,
   "metadata": {
    "collapsed": false
   },
   "outputs": [
    {
     "name": "stdout",
     "output_type": "stream",
     "text": [
      "SPARSE GRID APPROXIMATION & POINTS USED\n",
      "[[ 35.34161822]] 69\n"
     ]
    }
   ],
   "source": [
    "print 'SPARSE GRID APPROXIMATION & POINTS USED'\n",
    "print sparse_int, sparse_grid_cardinality"
   ]
  },
  {
   "cell_type": "markdown",
   "metadata": {},
   "source": [
    "<h2> 3. Effective quadrature subsampling"
   ]
  },
  {
   "cell_type": "markdown",
   "metadata": {
    "collapsed": true
   },
   "source": [
    "We will now demonstrate how we compute this integral using effectively subsampled quadratures from a tensor grid and a basis of hyperbolic cross polynomial orders. Then we setup the least squares problem and solve to obtain our coefficient vector, $\\mathbf{x}$. "
   ]
  },
  {
   "cell_type": "code",
   "execution_count": 8,
   "metadata": {
    "collapsed": false
   },
   "outputs": [],
   "source": [
    "q = 0.75\n",
    "hyperbolic_cross = IndexSet(\"hyperbolic cross\", [no_of_pts, no_of_pts, no_of_pts, no_of_pts], q)\n",
    "maximum_number_of_evals = IndexSet.getCardinality(hyperbolic_cross)"
   ]
  },
  {
   "cell_type": "code",
   "execution_count": 9,
   "metadata": {
    "collapsed": false
   },
   "outputs": [],
   "source": [
    "effectiveQuads = EffectiveSubsampling(allParameters, hyperbolic_cross, 0)\n",
    "A, esquad_pts, W, not_used = EffectiveSubsampling.getAsubsampled(effectiveQuads, maximum_number_of_evals)"
   ]
  },
  {
   "cell_type": "code",
   "execution_count": 10,
   "metadata": {
    "collapsed": false
   },
   "outputs": [
    {
     "name": "stderr",
     "output_type": "stream",
     "text": [
      "/Library/Frameworks/Python.framework/Versions/2.7/lib/python2.7/site-packages/scipy-0.17.0-py2.7-macosx-10.6-x86_64.egg/scipy/linalg/basic.py:884: RuntimeWarning: internal gelsd driver lwork query error, required iwork dimension not returned. This is likely the result of LAPACK bug 0038, fixed in LAPACK 3.2.2 (released July 21, 2010). Falling back to 'gelss' driver.\n",
      "  warnings.warn(mesg, RuntimeWarning)\n"
     ]
    }
   ],
   "source": [
    "A, normalizations = mat.rowNormalize(A)\n",
    "b = W * np.mat(utils.evalfunction(esquad_pts, integral))\n",
    "b = np.dot(normalizations, b)\n",
    "xn = mat.solveLeastSquares(A, b)"
   ]
  },
  {
   "cell_type": "markdown",
   "metadata": {},
   "source": [
    "Now we have to multiply this value by the size of the domain"
   ]
  },
  {
   "cell_type": "code",
   "execution_count": 16,
   "metadata": {
    "collapsed": true
   },
   "outputs": [],
   "source": [
    "integral_esq = xn[0] * 2**dimensions"
   ]
  },
  {
   "cell_type": "code",
   "execution_count": 17,
   "metadata": {
    "collapsed": false
   },
   "outputs": [
    {
     "name": "stdout",
     "output_type": "stream",
     "text": [
      "EFFECTIVELY SUBSAMPLED APPROXIMATION & POINTS USED\n",
      "[ 35.34161723] 35\n"
     ]
    }
   ],
   "source": [
    "print 'EFFECTIVELY SUBSAMPLED APPROXIMATION & POINTS USED'\n",
    "print integral_esq, maximum_number_of_evals"
   ]
  },
  {
   "cell_type": "code",
   "execution_count": null,
   "metadata": {
    "collapsed": true
   },
   "outputs": [],
   "source": []
  }
 ],
 "metadata": {
  "kernelspec": {
   "display_name": "Python 2",
   "language": "python",
   "name": "python2"
  },
  "language_info": {
   "codemirror_mode": {
    "name": "ipython",
    "version": 2
   },
   "file_extension": ".py",
   "mimetype": "text/x-python",
   "name": "python",
   "nbconvert_exporter": "python",
   "pygments_lexer": "ipython2",
   "version": "2.7.4"
  }
 },
 "nbformat": 4,
 "nbformat_minor": 0
}
