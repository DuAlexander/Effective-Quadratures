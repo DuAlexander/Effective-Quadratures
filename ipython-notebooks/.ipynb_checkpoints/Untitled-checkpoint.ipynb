{
 "cells": [
  {
   "cell_type": "code",
   "execution_count": 13,
   "metadata": {
    "collapsed": true
   },
   "outputs": [],
   "source": [
    "%matplotlib inline\n",
    "from effective_quadratures.PolyParams import PolynomialParam\n",
    "from effective_quadratures.PolyParentFile import PolyParent\n",
    "from effective_quadratures.IndexSets import IndexSet\n",
    "import effective_quadratures.ComputeStats as stats\n",
    "from effective_quadratures.EffectiveQuadSubsampling import EffectiveSubsampling\n",
    "import numpy as np\n",
    "import matplotlib.pyplot as plt"
   ]
  },
  {
   "cell_type": "markdown",
   "metadata": {},
   "source": [
    "<h1> The Namesake: Effective Quadrature Subsampling"
   ]
  },
  {
   "cell_type": "markdown",
   "metadata": {},
   "source": [
    "In this notebook we demonstrate what effective quadrature subsampling is. We begin by defining a simple two-dimensional function\n",
    "$$f(x_1, x_2) = exp(x_1 + x_2)$$\n",
    "where $x_1$ and $x_2$ are uniformly distributed over the cube $x_1, x_2 \n",
    "\\in [-1,1]$. "
   ]
  },
  {
   "cell_type": "markdown",
   "metadata": {},
   "source": [
    "Lets first understand what exactly effective quadrature subsampling is and how it computes the pseudospectral coefficients. [Insert Explanation!]"
   ]
  },
  {
   "cell_type": "markdown",
   "metadata": {},
   "source": [
    "<img src='Matrices.png'>"
   ]
  },
  {
   "cell_type": "code",
   "execution_count": 14,
   "metadata": {
    "collapsed": false
   },
   "outputs": [],
   "source": [
    "def exponential_function(x):\n",
    "    return np.exp(x[0] + x[1])"
   ]
  },
  {
   "cell_type": "markdown",
   "metadata": {},
   "source": [
    "Declare the two inputs and their ranges"
   ]
  },
  {
   "cell_type": "code",
   "execution_count": 15,
   "metadata": {
    "collapsed": true
   },
   "outputs": [],
   "source": [
    "no_pts_x1 = 5\n",
    "no_pts_x2 = 5\n",
    "min_range = -1.0\n",
    "max_range = 1.0\n",
    "x1 = PolynomialParam(\"Uniform\", min_range, max_range, [], [], [], no_pts_x1)\n",
    "x2 = PolynomialParam(\"Uniform\", min_range, max_range, [], [], [], no_pts_x2)\n",
    "x1x2 = []\n",
    "x1x2.append(x1)\n",
    "x1x2.append(x2)"
   ]
  },
  {
   "cell_type": "markdown",
   "metadata": {},
   "source": [
    "We will opt for a hyperbolic cross basis, though one can also opt for a total order basis. Bear in mind that we are trying to escape the cost associated with a more conventional tensor grid or sparse grid basis. A hyperbolic cross takes in a *q* parameter. When *q=1* we have a total order basis. "
   ]
  },
  {
   "cell_type": "code",
   "execution_count": 16,
   "metadata": {
    "collapsed": true
   },
   "outputs": [],
   "source": [
    "q = 0.5\n",
    "hyperbolic_cross = IndexSet(\"hyperbolic cross\", [no_pts_x1, no_pts_x2], q)\n",
    "maximum_number_of_evals = IndexSet.getCardinality(hyperbolic_cross)"
   ]
  },
  {
   "cell_type": "markdown",
   "metadata": {},
   "source": [
    "The class Effective_Subsampling has holds all the function calls required for effective quadrature subsampling. We begin by declaring an EffectiveSubsampling object that takes as inputs the uncertain parameters, the index set and a derivative flag. In this notebook as derivatives are not considered the derivative flag is set to 0."
   ]
  },
  {
   "cell_type": "code",
   "execution_count": 26,
   "metadata": {
    "collapsed": false
   },
   "outputs": [
    {
     "name": "stdout",
     "output_type": "stream",
     "text": [
      "---Square Matrix-----\n",
      "[ 0  4 20 24  8 16 12 19 13 10]\n",
      "\n",
      "\n",
      "[[  5.00000000e-01  -7.84774767e-01   8.18113399e-01  -6.62801939e-01\n",
      "    3.68603189e-01  -7.84774767e-01   1.23174287e+00   8.18113399e-01\n",
      "   -6.62801939e-01   3.68603189e-01]\n",
      " [  5.00000000e-01   7.84774767e-01   8.18113399e-01   6.62801939e-01\n",
      "    3.68603189e-01  -7.84774767e-01  -1.23174287e+00   8.18113399e-01\n",
      "   -6.62801939e-01   3.68603189e-01]\n",
      " [  5.00000000e-01  -7.84774767e-01   8.18113399e-01  -6.62801939e-01\n",
      "    3.68603189e-01   7.84774767e-01  -1.23174287e+00   8.18113399e-01\n",
      "    6.62801939e-01   3.68603189e-01]\n",
      " [  5.00000000e-01   7.84774767e-01   8.18113399e-01   6.62801939e-01\n",
      "    3.68603189e-01   7.84774767e-01   1.23174287e+00   8.18113399e-01\n",
      "    6.62801939e-01   3.68603189e-01]\n",
      " [  5.00000000e-01   4.66328102e-01  -7.27574069e-02  -5.52144624e-01\n",
      "   -5.16751337e-01  -4.66328102e-01  -4.34923797e-01  -7.27574069e-02\n",
      "    5.52144624e-01  -5.16751337e-01]\n",
      " [  5.00000000e-01  -4.66328102e-01  -7.27574069e-02   5.52144624e-01\n",
      "   -5.16751337e-01   4.66328102e-01  -4.34923797e-01  -7.27574069e-02\n",
      "   -5.52144624e-01  -5.16751337e-01]\n",
      " [  5.00000000e-01  -9.61481343e-17  -5.59016994e-01   2.20303052e-16\n",
      "    5.62500000e-01  -9.61481343e-17   1.84889275e-32  -5.59016994e-01\n",
      "    2.20303052e-16   5.62500000e-01]\n",
      " [  5.00000000e-01   7.84774767e-01   8.18113399e-01   6.62801939e-01\n",
      "    3.68603189e-01   4.66328102e-01   7.31925055e-01  -7.27574069e-02\n",
      "   -5.52144624e-01  -5.16751337e-01]\n",
      " [  5.00000000e-01   4.66328102e-01  -7.27574069e-02  -5.52144624e-01\n",
      "   -5.16751337e-01  -9.61481343e-17  -8.96731539e-17  -5.59016994e-01\n",
      "    2.20303052e-16   5.62500000e-01]\n",
      " [  5.00000000e-01  -7.84774767e-01   8.18113399e-01  -6.62801939e-01\n",
      "    3.68603189e-01  -9.61481343e-17   1.50909259e-16  -5.59016994e-01\n",
      "    2.20303052e-16   5.62500000e-01]]\n"
     ]
    }
   ],
   "source": [
    "effectiveQuads = EffectiveSubsampling(x1x2, hyperbolic_cross, 0)\n",
    "A_tall, pts = EffectiveSubsampling.getAsubsampled(effectiveQuads, maximum_number_of_evals)"
   ]
  },
  {
   "cell_type": "code",
   "execution_count": null,
   "metadata": {
    "collapsed": true
   },
   "outputs": [],
   "source": []
  }
 ],
 "metadata": {
  "kernelspec": {
   "display_name": "Python 2",
   "language": "python",
   "name": "python2"
  },
  "language_info": {
   "codemirror_mode": {
    "name": "ipython",
    "version": 2
   },
   "file_extension": ".py",
   "mimetype": "text/x-python",
   "name": "python",
   "nbconvert_exporter": "python",
   "pygments_lexer": "ipython2",
   "version": "2.7.10"
  }
 },
 "nbformat": 4,
 "nbformat_minor": 0
}
