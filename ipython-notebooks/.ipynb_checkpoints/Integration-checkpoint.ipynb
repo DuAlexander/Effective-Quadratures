{
 "cells": [
  {
   "cell_type": "code",
   "execution_count": 1,
   "metadata": {
    "collapsed": true
   },
   "outputs": [],
   "source": [
    "%matplotlib inline\n",
    "from effective_quadratures.PolyParams import PolynomialParam\n",
    "from effective_quadratures.PolyParentFile import PolyParent\n",
    "from effective_quadratures.IndexSets import IndexSet\n",
    "import effective_quadratures.Integrals as integrals\n",
    "import effective_quadratures.Utils as utils\n",
    "import effective_quadratures.MatrixRoutines as mat\n",
    "from effective_quadratures.EffectiveQuadSubsampling import EffectiveSubsampling\n",
    "import matplotlib.pyplot as plt\n",
    "import numpy as np"
   ]
  },
  {
   "cell_type": "markdown",
   "metadata": {},
   "source": [
    "<h1> Numerical Integration\n"
   ]
  },
  {
   "cell_type": "markdown",
   "metadata": {},
   "source": [
    "Numerical integration forms a pivotal component of modern computational engineering. In this notebook, we will test out a few of the integration routines in Effective-Quadratures. Consider the following integral\n",
    "$$\\int_{-2}^{1}\\int_{-3}^{2}\\int_{-1}^{2}\\int_{-0.5}^{0.5}\\left(cos\\left(x_{1}\\right)+x_{2}^{2}+x_{3}x_{4}\\right)dx_{1}dx_{2}dx_{3}dx_{4}.\n",
    "$$"
   ]
  },
  {
   "cell_type": "code",
   "execution_count": null,
   "metadata": {
    "collapsed": true
   },
   "outputs": [],
   "source": [
    "Which has a value of . We will approximate the integral using three different techniques:\n",
    "1. Tensor grid\n",
    "2. Sparse grid\n",
    "3. Effective quadrature subsampling (least squares)\n",
    "\n",
    "To begin, lets define the function and its bounds"
   ]
  },
  {
   "cell_type": "code",
   "execution_count": 2,
   "metadata": {
    "collapsed": false
   },
   "outputs": [],
   "source": [
    "def integral(x):\n",
    "    return np.cos(x[0]) + x[1]**2 + x[2]*x[3]"
   ]
  },
  {
   "cell_type": "markdown",
   "metadata": {},
   "source": [
    "<h2> 1. Tensor grid"
   ]
  },
  {
   "cell_type": "code",
   "execution_count": 3,
   "metadata": {
    "collapsed": false
   },
   "outputs": [],
   "source": [
    "no_of_pts = 4\n",
    "dimensions = 4\n",
    "parameter_x1 = PolynomialParam(\"Uniform\", -0.5, 0.5, [], [], [], no_of_pts)\n",
    "parameter_x2 = PolynomialParam(\"Uniform\", -1.0, 2.0, [], [], [], no_of_pts)\n",
    "parameter_x3 = PolynomialParam(\"Uniform\", -3.0, 2.0, [], [], [], no_of_pts)\n",
    "parameter_x4 = PolynomialParam(\"Uniform\", -2.0, 1.0, [], [], [], no_of_pts)\n",
    "allParameters = [parameter_x1, parameter_x2, parameter_x3, parameter_x4]"
   ]
  },
  {
   "cell_type": "markdown",
   "metadata": {},
   "source": [
    "Now lets generate a tensor grid index set and hand that over to the integrals function:"
   ]
  },
  {
   "cell_type": "code",
   "execution_count": 4,
   "metadata": {
    "collapsed": true
   },
   "outputs": [],
   "source": [
    "tensorgridObject = IndexSet(\"tensor grid\", [no_of_pts, no_of_pts, no_of_pts, no_of_pts])\n",
    "tg_pts, tg_wts = integrals.tensorGrid(allParameters, tensorgridObject)"
   ]
  },
  {
   "cell_type": "markdown",
   "metadata": {},
   "source": [
    "Computing the integral yields:"
   ]
  },
  {
   "cell_type": "code",
   "execution_count": 5,
   "metadata": {
    "collapsed": false
   },
   "outputs": [
    {
     "name": "stdout",
     "output_type": "stream",
     "text": [
      "TENSOR GRID APPROXIMATION & POINTS USED\n",
      "[[ 35.34161723]] 625\n"
     ]
    }
   ],
   "source": [
    "tensor_approximation = np.mat(tg_wts) * utils.evalfunction(tg_pts, integral)\n",
    "tensor_grid_cardinality = IndexSet.getCardinality(tensorgridObject)\n",
    "print 'TENSOR GRID APPROXIMATION & POINTS USED'\n",
    "print tensor_approximation, tensor_grid_cardinality"
   ]
  },
  {
   "cell_type": "markdown",
   "metadata": {},
   "source": [
    "<h2> 2. Sparse grid"
   ]
  },
  {
   "cell_type": "markdown",
   "metadata": {},
   "source": [
    "We will use an exponential growth rule with level 3 to approximate the integral:"
   ]
  },
  {
   "cell_type": "code",
   "execution_count": 6,
   "metadata": {
    "collapsed": false
   },
   "outputs": [],
   "source": [
    "sparsegridObject = IndexSet(\"sparse grid\", [], 4, \"exponential\", dimensions)\n",
    "sg_pts, sg_wts = integrals.sparseGrid(allParameters, sparsegridObject)\n",
    "sparse_int = np.mat(sg_wts) * utils.evalfunction(sg_pts, integral)\n",
    "sparse_grid_cardinality = IndexSet.getCardinality(sparsegridObject)"
   ]
  },
  {
   "cell_type": "code",
   "execution_count": 7,
   "metadata": {
    "collapsed": false
   },
   "outputs": [
    {
     "name": "stdout",
     "output_type": "stream",
     "text": [
      "SPARSE GRID APPROXIMATION & POINTS USED\n",
      "[[ 35.34161822]] 69\n"
     ]
    }
   ],
   "source": [
    "print 'SPARSE GRID APPROXIMATION & POINTS USED'\n",
    "print sparse_int, sparse_grid_cardinality"
   ]
  },
  {
   "cell_type": "markdown",
   "metadata": {},
   "source": [
    "<h2> 3. Effective quadrature subsampling"
   ]
  },
  {
   "cell_type": "markdown",
   "metadata": {
    "collapsed": true
   },
   "source": [
    "Computing the integral using effective quadrature subsampling is easy: just one line of code. "
   ]
  },
  {
   "cell_type": "code",
   "execution_count": 10,
   "metadata": {
    "collapsed": false
   },
   "outputs": [],
   "source": [
    "esq_int, no_of_pts, esquad_pts = integrals.effectivelySubsampledGrid(allParameters, integral);"
   ]
  },
  {
   "cell_type": "code",
   "execution_count": 11,
   "metadata": {
    "collapsed": false
   },
   "outputs": [
    {
     "name": "stdout",
     "output_type": "stream",
     "text": [
      "EFFECTIVELY SUBSAMPLED APPROXIMATION & POINTS USED\n",
      "[ 35.34161723] 35\n"
     ]
    }
   ],
   "source": [
    "print 'EFFECTIVELY SUBSAMPLED APPROXIMATION & POINTS USED'\n",
    "print esq_int, no_of_pts"
   ]
  },
  {
   "cell_type": "code",
   "execution_count": null,
   "metadata": {
    "collapsed": true
   },
   "outputs": [],
   "source": []
  }
 ],
 "metadata": {
  "kernelspec": {
   "display_name": "Python 2",
   "language": "python",
   "name": "python2"
  },
  "language_info": {
   "codemirror_mode": {
    "name": "ipython",
    "version": 2
   },
   "file_extension": ".py",
   "mimetype": "text/x-python",
   "name": "python",
   "nbconvert_exporter": "python",
   "pygments_lexer": "ipython2",
   "version": "2.7.4"
  }
 },
 "nbformat": 4,
 "nbformat_minor": 0
}
