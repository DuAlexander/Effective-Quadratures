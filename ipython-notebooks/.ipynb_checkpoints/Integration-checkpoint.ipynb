{
 "cells": [
  {
   "cell_type": "code",
   "execution_count": 1,
   "metadata": {
    "collapsed": true
   },
   "outputs": [],
   "source": [
    "%matplotlib inline\n",
    "from effective_quadratures.PolyParams import PolynomialParam\n",
    "from effective_quadratures.PolyParentFile import PolyParent\n",
    "from effective_quadratures.IndexSets import IndexSet\n",
    "import effective_quadratures.Integrals as integrals\n",
    "import effective_quadratures.Utils as utils\n",
    "import matplotlib.pyplot as plt\n",
    "import numpy as np"
   ]
  },
  {
   "cell_type": "markdown",
   "metadata": {},
   "source": [
    "<h1> Numerical Integration\n"
   ]
  },
  {
   "cell_type": "markdown",
   "metadata": {},
   "source": [
    "Numerical integration forms a pivotal component of modern computational engineering. In this notebook, we will test out a few of the integration routines in Effective-Quadratures. Consider the following integral:\n",
    "$$f(x_1, x_2, x_3) = exp(x_1 + x_2 + x_3)$$"
   ]
  }
 ],
 "metadata": {
  "kernelspec": {
   "display_name": "Python 2",
   "language": "python",
   "name": "python2"
  },
  "language_info": {
   "codemirror_mode": {
    "name": "ipython",
    "version": 2
   },
   "file_extension": ".py",
   "mimetype": "text/x-python",
   "name": "python",
   "nbconvert_exporter": "python",
   "pygments_lexer": "ipython2",
   "version": "2.7.10"
  }
 },
 "nbformat": 4,
 "nbformat_minor": 0
}
