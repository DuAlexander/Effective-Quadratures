{
 "cells": [
  {
   "cell_type": "code",
   "execution_count": 1,
   "metadata": {
    "collapsed": true
   },
   "outputs": [],
   "source": [
    "%matplotlib inline\n",
    "from effective_quadratures.PolyParams import PolynomialParam\n",
    "from effective_quadratures.PolyParentFile import PolyParent\n",
    "from effective_quadratures.IndexSets import IndexSet\n",
    "import effective_quadratures.Integrals as integrals\n",
    "import effective_quadratures.Utils as utils\n",
    "import effective_quadratures.MatrixRoutines as mat\n",
    "from effective_quadratures.EffectiveQuadSubsampling import EffectiveSubsampling\n",
    "import matplotlib.pyplot as plt\n",
    "import numpy as np"
   ]
  },
  {
   "cell_type": "markdown",
   "metadata": {},
   "source": [
    "<h1> Numerical Integration\n"
   ]
  },
  {
   "cell_type": "markdown",
   "metadata": {},
   "source": [
    "Numerical integration forms a pivotal component of modern computational engineering. In this notebook, we will test out a few of the integration routines in Effective-Quadratures. Consider the following integral\n",
    "$$\\int_{-2}^{1}\\int_{-3}^{2}\\int_{-1}^{2}\\int_{-0.5}^{0.5}\\left(cos\\left(x_{1}\\right)+x_{2}^{2}+x_{3}x_{4}\\right)dx_{1}dx_{2}dx_{3}dx_{4}.\n",
    "$$\n",
    "For which the analytical solution is \n",
    "$$ 90sin(0.5) + 225/4 \\approx 99.39829847.$$\n"
   ]
  },
  {
   "cell_type": "markdown",
   "metadata": {
    "collapsed": true
   },
   "source": [
    "We will approximate the integral using three different techniques:\n",
    "1. Tensor grid\n",
    "2. Sparse grid\n",
    "3. Effective quadrature subsampling (least squares)\n",
    "\n",
    "To begin, lets define the function and its bounds"
   ]
  },
  {
   "cell_type": "code",
   "execution_count": 2,
   "metadata": {
    "collapsed": false
   },
   "outputs": [],
   "source": [
    "def function(x):\n",
    "    return np.cos(x[0]) + x[1]**2 + x[2]*x[3]\n",
    "\n",
    "# Parameter ranges x1, x2, x3, x4\n",
    "parameter_ranges = ([-0.5, 0.5], [-1, 2], [-3, 2], [-2, 1])"
   ]
  },
  {
   "cell_type": "markdown",
   "metadata": {},
   "source": [
    "<h2> 1. Tensor grid"
   ]
  },
  {
   "cell_type": "markdown",
   "metadata": {},
   "source": [
    "We will use a isotropic tensor grid with 3 points (order 2) in each direction"
   ]
  },
  {
   "cell_type": "code",
   "execution_count": 3,
   "metadata": {
    "collapsed": false
   },
   "outputs": [
    {
     "name": "stdout",
     "output_type": "stream",
     "text": [
      "Tensor grid approximation: 99.3983206259 with # of points:81\n"
     ]
    }
   ],
   "source": [
    "number_of_points = [3,3,3,3]\n",
    "tensor_grid_approx, tensor_grid_points = integrals.tensorGrid(parameter_ranges, number_of_points, function)\n",
    "print 'Tensor grid approximation: '+str(tensor_grid_approx)+' with # of points:'+str(len(tensor_grid_points))"
   ]
  },
  {
   "cell_type": "markdown",
   "metadata": {},
   "source": [
    "<h2> 2. Sparse grid"
   ]
  },
  {
   "cell_type": "markdown",
   "metadata": {},
   "source": [
    "We will use a linear growth rule of level 3"
   ]
  },
  {
   "cell_type": "code",
   "execution_count": 4,
   "metadata": {
    "collapsed": false
   },
   "outputs": [],
   "source": [
    "# Sparse grid parameters\n",
    "level = 3\n",
    "growth_rule = \"linear\""
   ]
  },
  {
   "cell_type": "code",
   "execution_count": 5,
   "metadata": {
    "collapsed": false
   },
   "outputs": [
    {
     "name": "stdout",
     "output_type": "stream",
     "text": [
      "Sparse grid approximation: 95.0555893102 with # of points:165\n"
     ]
    }
   ],
   "source": [
    "sparse_grid_approx, sparse_grid_points = integrals.sparseGrid(parameter_ranges, level, growth_rule, function)\n",
    "print 'Sparse grid approximation: '+str(sparse_grid_approx)+' with # of points:'+str(len(sparse_grid_points))"
   ]
  },
  {
   "cell_type": "markdown",
   "metadata": {},
   "source": [
    "<h2> 3. Effective quadrature subsampling"
   ]
  },
  {
   "cell_type": "markdown",
   "metadata": {
    "collapsed": true
   },
   "source": [
    "Finally we utilize effective quadrature subsampling --- which uses a hyperbolic cross basis. For this we will use a \"q\" value of 0.75."
   ]
  },
  {
   "cell_type": "code",
   "execution_count": 6,
   "metadata": {
    "collapsed": false
   },
   "outputs": [
    {
     "name": "stdout",
     "output_type": "stream",
     "text": [
      "Effectively subsampled grid approximation: 99.3983206259 with # of points:19\n"
     ]
    }
   ],
   "source": [
    "# Hyperbolic Cross parameters -- for effective quadratures\n",
    "q = 0.75\n",
    "effectivequad_approx, effective_quad_points = integrals.effectivelySubsampledGrid(parameter_ranges, number_of_points, q, function)\n",
    "print 'Effectively subsampled grid approximation: '+str(effectivequad_approx)+' with # of points:'+str(len(effective_quad_points))"
   ]
  }
 ],
 "metadata": {
  "kernelspec": {
   "display_name": "Python 2",
   "language": "python",
   "name": "python2"
  },
  "language_info": {
   "codemirror_mode": {
    "name": "ipython",
    "version": 2
   },
   "file_extension": ".py",
   "mimetype": "text/x-python",
   "name": "python",
   "nbconvert_exporter": "python",
   "pygments_lexer": "ipython2",
   "version": "2.7.10"
  }
 },
 "nbformat": 4,
 "nbformat_minor": 0
}
