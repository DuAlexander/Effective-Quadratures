{
 "cells": [
  {
   "cell_type": "markdown",
   "metadata": {},
   "source": [
    "<h1> Computing Sensitivity (Sobol) Indices With Effective-Quadratures"
   ]
  },
  {
   "cell_type": "markdown",
   "metadata": {},
   "source": [
    "What input parameters $\\textit{drive}$ the outputs. In many cases in computational engineering, there are a few key inputs that actually dictate the state of the output. Computing the Sobol indices of the inputs are one approach to determine a ranking of the inputs. Typically computation of the Sobol indices involves numerous [...] However as shown in Sudret [1], using orthogonal polynomials these can be computed with relative ease. In this notebook we demonstrate how we can compute these indices using our effective quadrature subsampling. "
   ]
  },
  {
   "cell_type": "markdown",
   "metadata": {},
   "source": [
    "We consider a well-known example, known as the piston problem. The piston problem is a non-linear, seven-dimensional problem that outputs the piston [] which is a non-linear function of the inputs."
   ]
  },
  {
   "cell_type": "code",
   "execution_count": null,
   "metadata": {
    "collapsed": true
   },
   "outputs": [],
   "source": []
  }
 ],
 "metadata": {
  "kernelspec": {
   "display_name": "Python 2",
   "language": "python",
   "name": "python2"
  },
  "language_info": {
   "codemirror_mode": {
    "name": "ipython",
    "version": 2
   },
   "file_extension": ".py",
   "mimetype": "text/x-python",
   "name": "python",
   "nbconvert_exporter": "python",
   "pygments_lexer": "ipython2",
   "version": "2.7.4"
  }
 },
 "nbformat": 4,
 "nbformat_minor": 0
}
