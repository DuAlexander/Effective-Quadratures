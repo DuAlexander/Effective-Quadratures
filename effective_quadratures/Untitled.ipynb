{
 "cells": [
  {
   "cell_type": "code",
   "execution_count": 25,
   "metadata": {
    "collapsed": true
   },
   "outputs": [],
   "source": [
    "#!/usr/bin/env python\n",
    "from effective_quadratures.PolyParams import PolynomialParam\n",
    "from effective_quadratures.PolyParentFile import PolyParent\n",
    "import effective_quadratures.ComputeStats as stats\n",
    "import matplotlib.pyplot as plt\n",
    "import numpy as np\n",
    "import os\n"
   ]
  },
  {
   "cell_type": "code",
   "execution_count": 26,
   "metadata": {
    "collapsed": false
   },
   "outputs": [
    {
     "name": "stdout",
     "output_type": "stream",
     "text": [
      "13.75 2.27083333333\n",
      "0\n"
     ]
    }
   ],
   "source": [
    "# Create a \"model\"\n",
    "def fun(x):\n",
    "    return x[0] + x[1]\n",
    "\n",
    "def main():\n",
    "    order = 3\n",
    "    derivative_flag = 0 # derivative flag\n",
    "\n",
    "    # Parameter 1\n",
    "    c1 = PolynomialParam(\"Uniform\", 0.5, 2.0, 0, 0, derivative_flag, order)\n",
    "\n",
    "    # Parameter 2\n",
    "    c2 = PolynomialParam(\"Uniform\", 10.0, 15.0, 0, 0, derivative_flag, order)\n",
    "\n",
    "    # Method for computing polynomial\n",
    "    method = \"tensor grid\"\n",
    "\n",
    "    # Append c1 and c2 to 'model_inputs'\n",
    "    model_inputs = []\n",
    "    model_inputs.append(c1)\n",
    "    model_inputs.append(c2)\n",
    "\n",
    "    # Create a Polynomial object\n",
    "    polyObject = PolyParent(model_inputs, method)\n",
    "\n",
    "    # Compute the points and weights at which I need to evaluate my model\n",
    "    pts, wts, = PolyParent.getPointsAndWeights(polyObject)\n",
    "\n",
    "    # Compute the coefficients of this polynomial expansion\n",
    "    X, F, I = PolyParent.getCoefficients(polyObject, fun)\n",
    "\n",
    "    # Now compute the stats!\n",
    "    mean, variance = stats.compute_mean_variance(X, I)\n",
    "    sobol_indices = stats.compute_first_order_Sobol_indices(X, I)\n",
    "    \n",
    "    # Print outputs!\n",
    "    print mean, variance\n",
    "    print sobol_indices\n",
    "    \n",
    "main()"
   ]
  },
  {
   "cell_type": "code",
   "execution_count": null,
   "metadata": {
    "collapsed": false
   },
   "outputs": [],
   "source": []
  },
  {
   "cell_type": "code",
   "execution_count": null,
   "metadata": {
    "collapsed": true
   },
   "outputs": [],
   "source": []
  }
 ],
 "metadata": {
  "kernelspec": {
   "display_name": "Python 2",
   "language": "python",
   "name": "python2"
  },
  "language_info": {
   "codemirror_mode": {
    "name": "ipython",
    "version": 2
   },
   "file_extension": ".py",
   "mimetype": "text/x-python",
   "name": "python",
   "nbconvert_exporter": "python",
   "pygments_lexer": "ipython2",
   "version": "2.7.4"
  }
 },
 "nbformat": 4,
 "nbformat_minor": 0
}
